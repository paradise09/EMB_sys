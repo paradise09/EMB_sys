{
 "cells": [
  {
   "cell_type": "code",
   "execution_count": 38,
   "metadata": {},
   "outputs": [],
   "source": [
    "import pandas as pd\n",
    "import numpy as np\n",
    "\n",
    "import tensorflow as tf\n",
    "import os\n",
    "import PIL\n",
    "import shutil\n",
    "\n",
    "from tensorflow.keras.layers import Input, Conv2D, MaxPooling2D, Add, GlobalAveragePooling2D, Dense\n",
    "from tensorflow.keras.models import Model\n",
    "from tensorflow.keras.applications.resnet50 import ResNet50\n",
    "from tensorflow.keras.preprocessing import image\n",
    "from tensorflow.keras.preprocessing.image import ImageDataGenerator\n",
    "from tensorflow.keras.optimizers import Adam, RMSprop\n",
    "from tensorflow.keras.losses import SparseCategoricalCrossentropy"
   ]
  },
  {
   "cell_type": "code",
   "execution_count": 39,
   "metadata": {},
   "outputs": [],
   "source": [
    "# base path\n",
    "base_dir = 'D:/archive/Humans/'\n",
    "train_dir = os.path.join(base_dir, 'train')\n",
    "validation_dir = os.path.join(base_dir, 'validation')\n",
    "\n",
    "'''# training data path\n",
    "train_Kang_dir = os.path.join(train_dir, 'Kang')\n",
    "train_Choi_dir = os.path.join(train_dir, 'Choi')\n",
    "train_Hond_dir = os.path.join(train_dir, 'Hong')\n",
    "'''\n",
    "train_face_dir = os.path.join(train_dir, 'face')\n",
    "\n",
    "'''\n",
    "# validation data path\n",
    "validation_Kang_dir = os.path.join(validation_dir, 'Kang')\n",
    "validation_Choi_dir = os.path.join(validation_dir, 'Choi')\n",
    "valdiation_Hong_dir = os.path.join(validation_dir, 'Hong')'''\n",
    "validation_face_dir = os.path.join(validation_dir, 'face')"
   ]
  },
  {
   "cell_type": "code",
   "execution_count": 49,
   "metadata": {},
   "outputs": [
    {
     "name": "stdout",
     "output_type": "stream",
     "text": [
      "Found 5463 images belonging to 1 classes.\n",
      "Found 1756 images belonging to 1 classes.\n"
     ]
    }
   ],
   "source": [
    "train_datagen = ImageDataGenerator(rescale= 1./255,\n",
    "                                   rotation_range=25,\n",
    "                                   width_shift_range=0.05,\n",
    "                                   height_shift_range=0.05,\n",
    "                                   zoom_range=0.2,\n",
    "                                   horizontal_flip=True,\n",
    "                                   vertical_flip=True,\n",
    "                                   fill_mode='nearest')\n",
    "\n",
    "validation_datagen = ImageDataGenerator(rescale= 1./255)\n",
    "\n",
    "train_generator = train_datagen.flow_from_directory(train_dir,\n",
    "                                                    batch_size=16,\n",
    "                                                    color_mode='rgb',\n",
    "                                                    class_mode='sparse',\n",
    "                                                    target_size=(224,224))\n",
    "validation_generator = validation_datagen.flow_from_directory(validation_dir,\n",
    "                                                              batch_size=4,\n",
    "                                                              color_mode='rgb',\n",
    "                                                              class_mode='sparse',\n",
    "                                                              target_size=(224,224))\n",
    "\n"
   ]
  },
  {
   "cell_type": "code",
   "execution_count": 50,
   "metadata": {},
   "outputs": [
    {
     "data": {
      "text/plain": [
       "{'face': 0}"
      ]
     },
     "execution_count": 50,
     "metadata": {},
     "output_type": "execute_result"
    }
   ],
   "source": [
    "train_generator.class_indices"
   ]
  },
  {
   "cell_type": "markdown",
   "metadata": {},
   "source": [
    "# Model"
   ]
  },
  {
   "cell_type": "code",
   "execution_count": 51,
   "metadata": {},
   "outputs": [
    {
     "name": "stdout",
     "output_type": "stream",
     "text": [
      "Epoch 1/50\n",
      "4/4 - 42s - loss: 0.0000e+00 - accuracy: 0.8438 - val_loss: 0.0000e+00 - val_accuracy: 0.0000e+00 - 42s/epoch - 10s/step\n",
      "Epoch 2/50\n",
      "4/4 - 16s - loss: 0.0000e+00 - accuracy: 0.7656 - val_loss: 0.0000e+00 - val_accuracy: 0.0000e+00 - 16s/epoch - 4s/step\n",
      "Epoch 3/50\n",
      "4/4 - 17s - loss: 0.0000e+00 - accuracy: 0.7969 - val_loss: 0.0000e+00 - val_accuracy: 0.0000e+00 - 17s/epoch - 4s/step\n",
      "Epoch 4/50\n",
      "4/4 - 17s - loss: 0.0000e+00 - accuracy: 0.7500 - val_loss: 0.0000e+00 - val_accuracy: 0.0000e+00 - 17s/epoch - 4s/step\n",
      "Epoch 5/50\n",
      "4/4 - 17s - loss: 0.0000e+00 - accuracy: 0.7812 - val_loss: 0.0000e+00 - val_accuracy: 0.0000e+00 - 17s/epoch - 4s/step\n",
      "Epoch 6/50\n",
      "4/4 - 16s - loss: 0.0000e+00 - accuracy: 0.8281 - val_loss: 0.0000e+00 - val_accuracy: 0.0000e+00 - 16s/epoch - 4s/step\n",
      "Epoch 7/50\n",
      "4/4 - 16s - loss: 0.0000e+00 - accuracy: 0.8125 - val_loss: 0.0000e+00 - val_accuracy: 0.0000e+00 - 16s/epoch - 4s/step\n",
      "Epoch 8/50\n",
      "4/4 - 16s - loss: 0.0000e+00 - accuracy: 0.7656 - val_loss: 0.0000e+00 - val_accuracy: 0.0000e+00 - 16s/epoch - 4s/step\n",
      "Epoch 9/50\n",
      "4/4 - 15s - loss: 0.0000e+00 - accuracy: 0.7500 - val_loss: 0.0000e+00 - val_accuracy: 0.0000e+00 - 15s/epoch - 4s/step\n",
      "Epoch 10/50\n",
      "4/4 - 17s - loss: 0.0000e+00 - accuracy: 0.8125 - val_loss: 0.0000e+00 - val_accuracy: 0.0000e+00 - 17s/epoch - 4s/step\n",
      "Epoch 11/50\n",
      "4/4 - 16s - loss: 0.0000e+00 - accuracy: 0.7188 - val_loss: 0.0000e+00 - val_accuracy: 0.0000e+00 - 16s/epoch - 4s/step\n",
      "Epoch 12/50\n"
     ]
    }
   ],
   "source": [
    "'''def residual_block(x, filters, kernel_size=3, stride=1):\n",
    "    shortcut = x\n",
    "    \n",
    "    x = Conv2D(filters, kernel_size=kernel_size, strides=stride, padding=\"same\")(x)\n",
    "    x = tf.keras.layers.BatchNormalization()(x)\n",
    "    x = tf.keras.activations.relu(x)\n",
    "    \n",
    "    x = Conv2D(filters, kernel_size=kernel_size, strides=stride, padding=\"same\")(x)\n",
    "    x = tf.keras.layers.BatchNormalization()(x)\n",
    "    \n",
    "    x = Add()([x, shortcut])\n",
    "    x = tf.keras.activations.relu(x)\n",
    "    return x\n",
    "\n",
    "input_tensor = Input(shape=(150,150,3))\n",
    "\n",
    "x = Conv2D(64, (7,7), padding=\"same\", strides=(2,2), activation='relu')(input_tensor)\n",
    "x = MaxPooling2D((3,3), strides=(2,2), padding=\"same\")(x)\n",
    "\n",
    "x = residual_block(x,64)\n",
    "x = residual_block(x,64)\n",
    "\n",
    "x = GlobalAveragePooling2D()(x)\n",
    "\n",
    "output_tensor = Dense(1, activation='sigmoid')(x)\n",
    "\n",
    "model = Model(inputs=input_tensor, outputs=output_tensor)\n",
    "\n",
    "model.summary()'''\n",
    "\n",
    "base_model = ResNet50(weights='imagenet', include_top=False, input_shape=(224,224,3))\n",
    "\n",
    "x = GlobalAveragePooling2D()(base_model.output)\n",
    "output = Dense(1, activation='sigmoid')(x)\n",
    "\n",
    "model = Model(inputs=base_model.input, outputs=output)\n",
    "\n",
    "model. compile(optimizer=Adam(),\n",
    "               loss = SparseCategoricalCrossentropy(),\n",
    "               metrics=['accuracy'])\n",
    "\n",
    "history = model.fit(train_generator,\n",
    "                    validation_data = validation_generator,\n",
    "                    steps_per_epoch=4,\n",
    "                    epochs=50,\n",
    "                    validation_steps=4,\n",
    "                    verbose=2)\n",
    "\n",
    "train_loss, train_accuracy = model.evaluate(train_generator)\n",
    "validation_loss, validation_accuracy = model.evaluate(validation_generator)\n",
    "print(f\"Training Loss: {train_loss}, Training Accuracy: {train_accuracy}\")\n",
    "print(f\"Validation Loss: {validation_loss}, Validation Accuracy: {validation_accuracy}\")\n"
   ]
  },
  {
   "cell_type": "code",
   "execution_count": 11,
   "metadata": {},
   "outputs": [],
   "source": [
    "model.save('face_detect.h5')"
   ]
  },
  {
   "cell_type": "code",
   "execution_count": null,
   "metadata": {},
   "outputs": [],
   "source": []
  }
 ],
 "metadata": {
  "kernelspec": {
   "display_name": "Python 3",
   "language": "python",
   "name": "python3"
  },
  "language_info": {
   "codemirror_mode": {
    "name": "ipython",
    "version": 3
   },
   "file_extension": ".py",
   "mimetype": "text/x-python",
   "name": "python",
   "nbconvert_exporter": "python",
   "pygments_lexer": "ipython3",
   "version": "3.10.9"
  }
 },
 "nbformat": 4,
 "nbformat_minor": 2
}
